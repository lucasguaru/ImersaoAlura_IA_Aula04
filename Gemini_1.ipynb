{
  "nbformat": 4,
  "nbformat_minor": 0,
  "metadata": {
    "colab": {
      "provenance": [],
      "authorship_tag": "ABX9TyMheybuI4r2VUMy2FhX2cXj",
      "include_colab_link": true
    },
    "kernelspec": {
      "name": "python3",
      "display_name": "Python 3"
    },
    "language_info": {
      "name": "python"
    }
  },
  "cells": [
    {
      "cell_type": "markdown",
      "metadata": {
        "id": "view-in-github",
        "colab_type": "text"
      },
      "source": [
        "<a href=\"https://colab.research.google.com/github/lucasguaru/ImersaoAlura_IA_Aula04/blob/main/Gemini_1.ipynb\" target=\"_parent\"><img src=\"https://colab.research.google.com/assets/colab-badge.svg\" alt=\"Open In Colab\"/></a>"
      ]
    },
    {
      "cell_type": "code",
      "source": [
        "from google.colab import userdata"
      ],
      "metadata": {
        "id": "zh09wUYyXPWe"
      },
      "execution_count": 2,
      "outputs": []
    },
    {
      "cell_type": "code",
      "execution_count": 3,
      "metadata": {
        "id": "YM4T3rAHWzsC"
      },
      "outputs": [],
      "source": [
        "!pip install -q -U google-generativeai"
      ]
    },
    {
      "cell_type": "code",
      "source": [
        "# Import the Python SDK\n",
        "import google.generativeai as genai\n",
        "\n",
        "GOOGLE_API_KEY=userdata.get('GOOGLE_API_KEY')\n",
        "genai.configure(api_key=GOOGLE_API_KEY)"
      ],
      "metadata": {
        "id": "hpjqL3IEXEu2"
      },
      "execution_count": 4,
      "outputs": []
    },
    {
      "cell_type": "code",
      "source": [
        "for m in genai.list_models():\n",
        "  if 'generateContent' in m.supported_generation_methods:\n",
        "    print(m.name)"
      ],
      "metadata": {
        "colab": {
          "base_uri": "https://localhost:8080/",
          "height": 139
        },
        "id": "eW0mVmKhXcpS",
        "outputId": "4afab11f-9514-483d-929b-49ed098f4326"
      },
      "execution_count": 5,
      "outputs": [
        {
          "output_type": "stream",
          "name": "stdout",
          "text": [
            "models/gemini-1.0-pro\n",
            "models/gemini-1.0-pro-001\n",
            "models/gemini-1.0-pro-latest\n",
            "models/gemini-1.0-pro-vision-latest\n",
            "models/gemini-1.5-pro-latest\n",
            "models/gemini-pro\n",
            "models/gemini-pro-vision\n"
          ]
        }
      ]
    },
    {
      "cell_type": "code",
      "source": [
        "generation_config = {\n",
        "  \"candidate_count\": 1,\n",
        "  \"temperature\": 0.5,\n",
        "}"
      ],
      "metadata": {
        "id": "OnD1lrYQYyJ6"
      },
      "execution_count": 6,
      "outputs": []
    },
    {
      "cell_type": "code",
      "source": [
        "safety_settings = {\n",
        "  \"HARASSMENT\": \"BLOCK_NONE\",\n",
        "  \"HATE\": \"BLOCK_NONE\",\n",
        "  \"SEXUAL\": \"BLOCK_NONE\",\n",
        "  \"DANGEROUS\": \"BLOCK_NONE\",\n",
        "}"
      ],
      "metadata": {
        "id": "_MwO3f-pY_66"
      },
      "execution_count": 7,
      "outputs": []
    },
    {
      "cell_type": "code",
      "source": [
        "model = genai.GenerativeModel(model_name='gemini-1.0-pro', generation_config=generation_config, safety_settings=safety_settings)"
      ],
      "metadata": {
        "id": "BiRjLtJXXUfM"
      },
      "execution_count": 17,
      "outputs": []
    },
    {
      "cell_type": "code",
      "source": [
        "response = model.generate_content(\"Vamos aprender conteúdo sobre IA. Me dê sugestões\")\n",
        "# print(response.text)\n",
        "print(response)"
      ],
      "metadata": {
        "colab": {
          "base_uri": "https://localhost:8080/",
          "height": 141
        },
        "id": "o0YL5cjHKwzg",
        "outputId": "6885c4d0-b714-4bef-e6fc-667d05564425"
      },
      "execution_count": 18,
      "outputs": [
        {
          "output_type": "stream",
          "name": "stdout",
          "text": [
            "response:\n",
            "GenerateContentResponse(\n",
            "    done=True,\n",
            "    iterator=None,\n",
            "    result=glm.GenerateContentResponse({'candidates': [{'content': {'parts': [{'text': '**Conceitos Fundamentais**\\n\\n* Definição e tipos de Inteligência Artificial (IA)\\n* Aprendizado de Máquina (ML), Aprendizado Profundo (DL) e Processamento de Linguagem Natural (PNL)\\n* Algoritmos de IA e redes neurais\\n* Viés e ética em IA\\n\\n**Aplicações da IA**\\n\\n* Reconhecimento de imagem e fala\\n* Processamento de linguagem natural e tradução\\n* Carros autônomos e robótica\\n* Assistentes virtuais e chatbots\\n* Diagnóstico médico e descoberta de medicamentos\\n\\n**Desenvolvimento e Implementação de IA**\\n\\n* Linguagens de programação para IA (por exemplo, Python, R)\\n* Bibliotecas e frameworks de IA\\n* Treinamento e avaliação de modelos de IA\\n* Integração de IA em sistemas existentes\\n\\n**Implicações Sociais e Éticas**\\n\\n* Impacto da IA no emprego e na economia\\n* Preocupações com privacidade e segurança\\n* Responsabilidade e regulamentação da IA\\n* O futuro da IA e seu impacto na sociedade\\n\\n**Recursos de Aprendizagem**\\n\\n* **Cursos online:** Coursera, edX, Udacity\\n* **Livros:** \"Inteligência Artificial: Uma Abordagem Moderna\" por Stuart Russell e Peter Norvig, \"Aprendizado de Máquina\" por Ethem Alpaydin\\n* **Artigos e pesquisas:** arXiv, IEEE, ACM\\n* **Comunidades online:** Reddit (r/MachineLearning, r/ArtificialIntelligence), Discord\\n\\n**Exemplos Práticos**\\n\\n* **Reconhecimento de imagem:** Google Lens, Amazon Rekognition\\n* **Processamento de linguagem natural:** ChatGPT, Grammarly\\n* **Carros autônomos:** Tesla, Waymo\\n* **Assistentes virtuais:** Siri, Alexa, Google Assistant\\n* **Diagnóstico médico:** IBM Watson Health, Google Health'}], 'role': 'model'}, 'finish_reason': 1, 'index': 0, 'safety_ratings': [{'category': 9, 'probability': 1, 'blocked': False}, {'category': 8, 'probability': 1, 'blocked': False}, {'category': 7, 'probability': 1, 'blocked': False}, {'category': 10, 'probability': 1, 'blocked': False}], 'token_count': 0, 'grounding_attributions': []}]}),\n",
            ")\n"
          ]
        }
      ]
    },
    {
      "cell_type": "code",
      "source": [
        "chat = model.start_chat(history=[])"
      ],
      "metadata": {
        "id": "Bcr8AfZdLNrP"
      },
      "execution_count": 20,
      "outputs": []
    },
    {
      "cell_type": "code",
      "source": [
        "prompt = input(\"Esperando prompt: \")\n",
        "while prompt != \"fim\":\n",
        "  response = chat.send_message(prompt)\n",
        "  print(f\"Resposta: {response.text}\")\n",
        "  prompt = input(\"Esperando prompt: \")"
      ],
      "metadata": {
        "colab": {
          "base_uri": "https://localhost:8080/",
          "height": 625
        },
        "id": "Rt8k0qBH2gu8",
        "outputId": "b308682b-988c-4edf-e660-a4f1279af2d3"
      },
      "execution_count": 22,
      "outputs": [
        {
          "name": "stdout",
          "output_type": "stream",
          "text": [
            "Esperando prompt: Qual a capital do Japão?\n",
            "Resposta: Tóquio\n",
            "Esperando prompt: O que tem de legal nesse lugar?\n",
            "Resposta: **Tóquio, a capital do Japão, é uma metrópole vibrante e fascinante que oferece uma ampla gama de atrações e experiências:**\n",
            "\n",
            "* **Cultura e História:**\n",
            "    * Visite o Palácio Imperial, a residência oficial do Imperador do Japão.\n",
            "    * Explore o Museu Nacional de Tóquio para conhecer a rica história e cultura do Japão.\n",
            "    * Caminhe pela rua comercial Nakamise-dori até o Templo Senso-ji, o templo budista mais antigo de Tóquio.\n",
            "\n",
            "* **Compras e Entretenimento:**\n",
            "    * Faça compras na movimentada rua comercial Ginza, conhecida por suas lojas de luxo e boutiques.\n",
            "    * Visite o bairro de Akihabara, \"Cidade Elétrica\", para eletrônicos, anime e cultura otaku.\n",
            "    * Assista a um show de kabuki tradicional no Teatro Kabuki-za.\n",
            "\n",
            "* **Natureza e Parques:**\n",
            "    * Relaxe no Jardim Nacional Shinjuku Gyoen, um oásis verde no coração da cidade.\n",
            "    * Suba até o topo do Tokyo Skytree para vistas panorâmicas deslumbrantes.\n",
            "    * Faça um passeio de barco pelo Rio Sumida para apreciar a arquitetura moderna e tradicional.\n",
            "\n",
            "* **Comida e Bebida:**\n",
            "    * Experimente a autêntica culinária japonesa em restaurantes estrelados pelo Michelin.\n",
            "    * Visite o Mercado de Peixe de Tsukiji, o maior mercado de peixe do mundo.\n",
            "    * Aprenda a fazer sushi em uma aula de culinária.\n",
            "\n",
            "* **Vida Noturna:**\n",
            "    * Explore os bares e clubes animados do distrito de Roppongi.\n",
            "    * Cante karaokê em uma das muitas casas de karaokê da cidade.\n",
            "    * Assista a um show de comédia ao vivo em um dos muitos clubes de comédia.\n",
            "\n",
            "* **Outras Atrações:**\n",
            "    * Visite o Museu Ghibli, dedicado aos filmes de animação do Studio Ghibli.\n",
            "    * Explore o Museu de Arte Mori, que oferece exposições de arte contemporânea.\n",
            "    * Faça um passeio de trem-bala para uma viagem de um dia a outras cidades do Japão.\n",
            "Esperando prompt: fim\n"
          ]
        }
      ]
    },
    {
      "cell_type": "code",
      "source": [
        "import textwrap\n",
        "from IPython.display import display, Markdown\n",
        "\n",
        "def to_markdown(text):\n",
        "    text = text.replace('•', '  *')\n",
        "    return Markdown(textwrap.indent(text, '> ', predicate=lambda _: True))\n",
        "\n",
        "for message in chat.history:\n",
        "    display(to_markdown(f'**{message.role}**: {message.parts[0].text}'))\n",
        "    print('------------------------')"
      ],
      "metadata": {
        "colab": {
          "base_uri": "https://localhost:8080/",
          "height": 882
        },
        "id": "NdRKiaKR3eOx",
        "outputId": "c1f4f751-808f-41ff-b666-a34223050f2f"
      },
      "execution_count": 23,
      "outputs": [
        {
          "output_type": "display_data",
          "data": {
            "text/plain": [
              "<IPython.core.display.Markdown object>"
            ],
            "text/markdown": "> **user**: Qual a capital do Japão?"
          },
          "metadata": {}
        },
        {
          "output_type": "stream",
          "name": "stdout",
          "text": [
            "------------------------\n"
          ]
        },
        {
          "output_type": "display_data",
          "data": {
            "text/plain": [
              "<IPython.core.display.Markdown object>"
            ],
            "text/markdown": "> **model**: Tóquio"
          },
          "metadata": {}
        },
        {
          "output_type": "stream",
          "name": "stdout",
          "text": [
            "------------------------\n"
          ]
        },
        {
          "output_type": "display_data",
          "data": {
            "text/plain": [
              "<IPython.core.display.Markdown object>"
            ],
            "text/markdown": "> **user**: Qual a capital do Japão?"
          },
          "metadata": {}
        },
        {
          "output_type": "stream",
          "name": "stdout",
          "text": [
            "------------------------\n"
          ]
        },
        {
          "output_type": "display_data",
          "data": {
            "text/plain": [
              "<IPython.core.display.Markdown object>"
            ],
            "text/markdown": "> **model**: Tóquio"
          },
          "metadata": {}
        },
        {
          "output_type": "stream",
          "name": "stdout",
          "text": [
            "------------------------\n"
          ]
        },
        {
          "output_type": "display_data",
          "data": {
            "text/plain": [
              "<IPython.core.display.Markdown object>"
            ],
            "text/markdown": "> **user**: O que tem de legal nesse lugar?"
          },
          "metadata": {}
        },
        {
          "output_type": "stream",
          "name": "stdout",
          "text": [
            "------------------------\n"
          ]
        },
        {
          "output_type": "display_data",
          "data": {
            "text/plain": [
              "<IPython.core.display.Markdown object>"
            ],
            "text/markdown": "> **model**: **Tóquio, a capital do Japão, é uma metrópole vibrante e fascinante que oferece uma ampla gama de atrações e experiências:**\n> \n> * **Cultura e História:**\n>     * Visite o Palácio Imperial, a residência oficial do Imperador do Japão.\n>     * Explore o Museu Nacional de Tóquio para conhecer a rica história e cultura do Japão.\n>     * Caminhe pela rua comercial Nakamise-dori até o Templo Senso-ji, o templo budista mais antigo de Tóquio.\n> \n> * **Compras e Entretenimento:**\n>     * Faça compras na movimentada rua comercial Ginza, conhecida por suas lojas de luxo e boutiques.\n>     * Visite o bairro de Akihabara, \"Cidade Elétrica\", para eletrônicos, anime e cultura otaku.\n>     * Assista a um show de kabuki tradicional no Teatro Kabuki-za.\n> \n> * **Natureza e Parques:**\n>     * Relaxe no Jardim Nacional Shinjuku Gyoen, um oásis verde no coração da cidade.\n>     * Suba até o topo do Tokyo Skytree para vistas panorâmicas deslumbrantes.\n>     * Faça um passeio de barco pelo Rio Sumida para apreciar a arquitetura moderna e tradicional.\n> \n> * **Comida e Bebida:**\n>     * Experimente a autêntica culinária japonesa em restaurantes estrelados pelo Michelin.\n>     * Visite o Mercado de Peixe de Tsukiji, o maior mercado de peixe do mundo.\n>     * Aprenda a fazer sushi em uma aula de culinária.\n> \n> * **Vida Noturna:**\n>     * Explore os bares e clubes animados do distrito de Roppongi.\n>     * Cante karaokê em uma das muitas casas de karaokê da cidade.\n>     * Assista a um show de comédia ao vivo em um dos muitos clubes de comédia.\n> \n> * **Outras Atrações:**\n>     * Visite o Museu Ghibli, dedicado aos filmes de animação do Studio Ghibli.\n>     * Explore o Museu de Arte Mori, que oferece exposições de arte contemporânea.\n>     * Faça um passeio de trem-bala para uma viagem de um dia a outras cidades do Japão."
          },
          "metadata": {}
        },
        {
          "output_type": "stream",
          "name": "stdout",
          "text": [
            "------------------------\n"
          ]
        }
      ]
    }
  ]
}